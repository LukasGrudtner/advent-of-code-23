{
 "cells": [
  {
   "cell_type": "code",
   "execution_count": 1,
   "id": "initial_id",
   "metadata": {
    "collapsed": true,
    "ExecuteTime": {
     "end_time": "2023-12-01T21:34:47.829896582Z",
     "start_time": "2023-12-01T21:34:47.663473513Z"
    }
   },
   "outputs": [],
   "source": [
    "from typing import Union\n",
    "import pandas as pd"
   ]
  },
  {
   "cell_type": "code",
   "execution_count": 2,
   "outputs": [],
   "source": [
    "df = pd.read_csv('data.txt')"
   ],
   "metadata": {
    "collapsed": false,
    "ExecuteTime": {
     "end_time": "2023-12-01T21:34:57.581751481Z",
     "start_time": "2023-12-01T21:34:57.568226402Z"
    }
   },
   "id": "59ad0be843180fbd"
  },
  {
   "cell_type": "code",
   "execution_count": 3,
   "outputs": [
    {
     "data": {
      "text/plain": "                                 PuzzleInputs\n0                                 1six7396484\n1                   1ninehgqtjprgnpkchxdkctzk\n2   sevenmpsmstdfivebtnjljnlnpjrkhhsninefour9\n3  pppmfmnfourtworxrqrfhbgx8vvxgrjzhvqmztltwo\n4                          9eightctkdnnllnine",
      "text/html": "<div>\n<style scoped>\n    .dataframe tbody tr th:only-of-type {\n        vertical-align: middle;\n    }\n\n    .dataframe tbody tr th {\n        vertical-align: top;\n    }\n\n    .dataframe thead th {\n        text-align: right;\n    }\n</style>\n<table border=\"1\" class=\"dataframe\">\n  <thead>\n    <tr style=\"text-align: right;\">\n      <th></th>\n      <th>PuzzleInputs</th>\n    </tr>\n  </thead>\n  <tbody>\n    <tr>\n      <th>0</th>\n      <td>1six7396484</td>\n    </tr>\n    <tr>\n      <th>1</th>\n      <td>1ninehgqtjprgnpkchxdkctzk</td>\n    </tr>\n    <tr>\n      <th>2</th>\n      <td>sevenmpsmstdfivebtnjljnlnpjrkhhsninefour9</td>\n    </tr>\n    <tr>\n      <th>3</th>\n      <td>pppmfmnfourtworxrqrfhbgx8vvxgrjzhvqmztltwo</td>\n    </tr>\n    <tr>\n      <th>4</th>\n      <td>9eightctkdnnllnine</td>\n    </tr>\n  </tbody>\n</table>\n</div>"
     },
     "execution_count": 3,
     "metadata": {},
     "output_type": "execute_result"
    }
   ],
   "source": [
    "df.head()"
   ],
   "metadata": {
    "collapsed": false,
    "ExecuteTime": {
     "end_time": "2023-12-01T21:35:02.275583095Z",
     "start_time": "2023-12-01T21:35:02.259791177Z"
    }
   },
   "id": "af51d74ca525470b"
  },
  {
   "cell_type": "markdown",
   "source": [
    "# Part 2"
   ],
   "metadata": {
    "collapsed": false
   },
   "id": "321b3a53420df83e"
  },
  {
   "cell_type": "code",
   "execution_count": 6,
   "outputs": [],
   "source": [
    "numbers = {\n",
    "    'zero': '0',\n",
    "    'one': '1',\n",
    "    'two': '2',\n",
    "    'three': '3',\n",
    "    'four': '4',\n",
    "    'five': '5',\n",
    "    'six': '6',\n",
    "    'seven': '7',\n",
    "    'eight': '8',\n",
    "    'nine': '9'\n",
    "}\n",
    "\n",
    "\n",
    "def contains_spelled_number(substring: str) -> bool:\n",
    "    for key in numbers.keys():\n",
    "        if key in substring:\n",
    "            return True\n",
    "    return False\n",
    "\n",
    "def get_spelled_number(substring: str) -> str:\n",
    "    for key in numbers.keys():\n",
    "        if key in substring:\n",
    "            return key\n",
    "    return None\n",
    "\n",
    "def get_first_digit(gibberish: str) -> Union[str, None]:\n",
    "    substring = ''\n",
    "    for letter in gibberish:\n",
    "        substring = substring + letter\n",
    "        if letter.isdigit():\n",
    "            return letter\n",
    "\n",
    "        spelled_number = get_spelled_number(substring)\n",
    "        if spelled_number:\n",
    "            return numbers[spelled_number]\n",
    "\n",
    "    return None\n",
    "\n",
    "\n",
    "def get_last_digit(string: str) -> str:\n",
    "    substring = ''\n",
    "    for letter in string[::-1]:\n",
    "        substring = letter + substring\n",
    "        if letter.isdigit():\n",
    "            return letter\n",
    "\n",
    "        spelled_number = get_spelled_number(substring)\n",
    "        if spelled_number:\n",
    "            return numbers[spelled_number]\n",
    "\n",
    "\n",
    "def get_calibration_value(input: str) -> int:\n",
    "    first_digit = get_first_digit(input)\n",
    "    last_digit = get_last_digit(input)\n",
    "    \n",
    "    return int(first_digit + last_digit)"
   ],
   "metadata": {
    "collapsed": false,
    "ExecuteTime": {
     "end_time": "2023-12-01T21:35:55.899638512Z",
     "start_time": "2023-12-01T21:35:55.855766891Z"
    }
   },
   "id": "53bc3ca9d31317c6"
  },
  {
   "cell_type": "markdown",
   "source": [
    "# Test"
   ],
   "metadata": {
    "collapsed": false
   },
   "id": "9d0b6520c46262fb"
  },
  {
   "cell_type": "code",
   "execution_count": 7,
   "outputs": [],
   "source": [
    "assert get_calibration_value('two1nine') == 29\n",
    "assert get_calibration_value('eightwothree') == 83\n",
    "assert get_calibration_value('abcone2threexyz') == 13\n",
    "assert get_calibration_value('xtwone3four') == 24\n",
    "assert get_calibration_value('4nineeightseven2') == 42\n",
    "assert get_calibration_value('zoneight234') == 14\n",
    "assert get_calibration_value('7pqrstsixteen') == 76"
   ],
   "metadata": {
    "collapsed": false,
    "ExecuteTime": {
     "end_time": "2023-12-01T21:35:57.364629354Z",
     "start_time": "2023-12-01T21:35:57.359958246Z"
    }
   },
   "id": "d7e67a0f276cfff9"
  },
  {
   "cell_type": "code",
   "execution_count": 8,
   "outputs": [],
   "source": [
    "df['CalibrationValues'] = df['PuzzleInputs'].apply(lambda x: get_calibration_value(x))"
   ],
   "metadata": {
    "collapsed": false,
    "ExecuteTime": {
     "end_time": "2023-12-01T21:36:00.915359605Z",
     "start_time": "2023-12-01T21:36:00.908080891Z"
    }
   },
   "id": "1790d2e2b377a745"
  },
  {
   "cell_type": "code",
   "execution_count": 9,
   "outputs": [],
   "source": [
    "result = df['CalibrationValues'].sum()"
   ],
   "metadata": {
    "collapsed": false,
    "ExecuteTime": {
     "end_time": "2023-12-01T21:36:05.327667302Z",
     "start_time": "2023-12-01T21:36:05.318221781Z"
    }
   },
   "id": "d3195839a1b2a969"
  },
  {
   "cell_type": "code",
   "execution_count": 10,
   "outputs": [
    {
     "name": "stdout",
     "output_type": "stream",
     "text": [
      "55218\n"
     ]
    }
   ],
   "source": [
    "print(result)"
   ],
   "metadata": {
    "collapsed": false,
    "ExecuteTime": {
     "end_time": "2023-12-01T21:36:08.172121275Z",
     "start_time": "2023-12-01T21:36:08.154392642Z"
    }
   },
   "id": "cf25b273f929f365"
  },
  {
   "cell_type": "code",
   "execution_count": null,
   "outputs": [],
   "source": [],
   "metadata": {
    "collapsed": false
   },
   "id": "78d3c4fe7e61b748"
  }
 ],
 "metadata": {
  "kernelspec": {
   "display_name": "Python 3",
   "language": "python",
   "name": "python3"
  },
  "language_info": {
   "codemirror_mode": {
    "name": "ipython",
    "version": 2
   },
   "file_extension": ".py",
   "mimetype": "text/x-python",
   "name": "python",
   "nbconvert_exporter": "python",
   "pygments_lexer": "ipython2",
   "version": "2.7.6"
  }
 },
 "nbformat": 4,
 "nbformat_minor": 5
}

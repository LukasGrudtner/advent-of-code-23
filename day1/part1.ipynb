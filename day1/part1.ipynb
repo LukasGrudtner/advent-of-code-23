{
 "cells": [
  {
   "cell_type": "code",
   "execution_count": 89,
   "id": "initial_id",
   "metadata": {
    "collapsed": true,
    "ExecuteTime": {
     "end_time": "2023-12-01T21:29:01.828160306Z",
     "start_time": "2023-12-01T21:29:01.825267605Z"
    }
   },
   "outputs": [],
   "source": [
    "from typing import Union\n",
    "import pandas as pd"
   ]
  },
  {
   "cell_type": "code",
   "execution_count": 8,
   "outputs": [],
   "source": [
    "df = pd.read_csv('data.txt')"
   ],
   "metadata": {
    "collapsed": false,
    "ExecuteTime": {
     "end_time": "2023-12-01T20:37:24.379741877Z",
     "start_time": "2023-12-01T20:37:24.333309917Z"
    }
   },
   "id": "2e7ea44c55c6a55"
  },
  {
   "cell_type": "code",
   "execution_count": 10,
   "outputs": [
    {
     "data": {
      "text/plain": "                                 PuzzleInputs\n0                                 1six7396484\n1                   1ninehgqtjprgnpkchxdkctzk\n2   sevenmpsmstdfivebtnjljnlnpjrkhhsninefour9\n3  pppmfmnfourtworxrqrfhbgx8vvxgrjzhvqmztltwo\n4                          9eightctkdnnllnine",
      "text/html": "<div>\n<style scoped>\n    .dataframe tbody tr th:only-of-type {\n        vertical-align: middle;\n    }\n\n    .dataframe tbody tr th {\n        vertical-align: top;\n    }\n\n    .dataframe thead th {\n        text-align: right;\n    }\n</style>\n<table border=\"1\" class=\"dataframe\">\n  <thead>\n    <tr style=\"text-align: right;\">\n      <th></th>\n      <th>PuzzleInputs</th>\n    </tr>\n  </thead>\n  <tbody>\n    <tr>\n      <th>0</th>\n      <td>1six7396484</td>\n    </tr>\n    <tr>\n      <th>1</th>\n      <td>1ninehgqtjprgnpkchxdkctzk</td>\n    </tr>\n    <tr>\n      <th>2</th>\n      <td>sevenmpsmstdfivebtnjljnlnpjrkhhsninefour9</td>\n    </tr>\n    <tr>\n      <th>3</th>\n      <td>pppmfmnfourtworxrqrfhbgx8vvxgrjzhvqmztltwo</td>\n    </tr>\n    <tr>\n      <th>4</th>\n      <td>9eightctkdnnllnine</td>\n    </tr>\n  </tbody>\n</table>\n</div>"
     },
     "execution_count": 10,
     "metadata": {},
     "output_type": "execute_result"
    }
   ],
   "source": [
    "df.head()"
   ],
   "metadata": {
    "collapsed": false,
    "ExecuteTime": {
     "end_time": "2023-12-01T20:37:36.023361922Z",
     "start_time": "2023-12-01T20:37:36.010593861Z"
    }
   },
   "id": "1c48f203b05746b1"
  },
  {
   "cell_type": "markdown",
   "source": [
    "# Part 1"
   ],
   "metadata": {
    "collapsed": false
   },
   "id": "8e7c412461d2ef79"
  },
  {
   "cell_type": "code",
   "execution_count": 83,
   "outputs": [],
   "source": [
    "def get_calibration_value(input: str) -> int:\n",
    "    # for key, value in numbers.items():\n",
    "    #     input = input.replace(key, str(value))\n",
    "\n",
    "    first_digit, last_digit = None, None\n",
    "    for letter in input:\n",
    "        if letter.isdigit():\n",
    "            if first_digit is None:\n",
    "                first_digit = letter\n",
    "            last_digit = letter\n",
    "\n",
    "    return int(first_digit + last_digit)"
   ],
   "metadata": {
    "collapsed": false,
    "ExecuteTime": {
     "end_time": "2023-12-01T21:15:42.336117506Z",
     "start_time": "2023-12-01T21:15:42.328246083Z"
    }
   },
   "id": "5637c88bc05d9f72"
  },
  {
   "cell_type": "code",
   "execution_count": 79,
   "outputs": [],
   "source": [
    "df['CalibrationValues'] = df['PuzzleInputs'].apply(lambda x: get_calibration_value(x))"
   ],
   "metadata": {
    "collapsed": false,
    "ExecuteTime": {
     "end_time": "2023-12-01T21:14:07.949446508Z",
     "start_time": "2023-12-01T21:14:07.945927802Z"
    }
   },
   "id": "1952f6e60ca52539"
  },
  {
   "cell_type": "code",
   "execution_count": 105,
   "outputs": [],
   "source": [
    "result = df['CalibrationValues'].sum()"
   ],
   "metadata": {
    "collapsed": false,
    "ExecuteTime": {
     "end_time": "2023-12-01T21:36:29.111520588Z",
     "start_time": "2023-12-01T21:36:29.066616945Z"
    }
   },
   "id": "7e5eca4ba405100d"
  },
  {
   "cell_type": "code",
   "execution_count": 106,
   "outputs": [
    {
     "name": "stdout",
     "output_type": "stream",
     "text": [
      "54951\n"
     ]
    }
   ],
   "source": [
    "print(result)"
   ],
   "metadata": {
    "collapsed": false,
    "ExecuteTime": {
     "end_time": "2023-12-01T21:36:29.627965107Z",
     "start_time": "2023-12-01T21:36:29.625969410Z"
    }
   },
   "id": "a72dbcbdb78e46bb"
  },
  {
   "cell_type": "markdown",
   "source": [
    "## Test sample"
   ],
   "metadata": {
    "collapsed": false
   },
   "id": "e73194e007931ac4"
  },
  {
   "cell_type": "code",
   "execution_count": 74,
   "outputs": [],
   "source": [
    "# Test\n",
    "assert get_calibration_value('1abc2') == 12\n",
    "assert get_calibration_value('pqr3stu8vwx') == 38\n",
    "assert get_calibration_value('a1b2c3d4e5f') == 15\n",
    "assert get_calibration_value('treb7uchet') == 77\n",
    "assert get_calibration_value('1abc2') + get_calibration_value('pqr3stu8vwx') + get_calibration_value('a1b2c3d4e5f') + get_calibration_value('treb7uchet') == 142"
   ],
   "metadata": {
    "collapsed": false,
    "ExecuteTime": {
     "end_time": "2023-12-01T21:13:52.434947922Z",
     "start_time": "2023-12-01T21:13:52.433599061Z"
    }
   },
   "id": "217eaf180afc0937"
  }
 ],
 "metadata": {
  "kernelspec": {
   "display_name": "Python 3",
   "language": "python",
   "name": "python3"
  },
  "language_info": {
   "codemirror_mode": {
    "name": "ipython",
    "version": 2
   },
   "file_extension": ".py",
   "mimetype": "text/x-python",
   "name": "python",
   "nbconvert_exporter": "python",
   "pygments_lexer": "ipython2",
   "version": "2.7.6"
  }
 },
 "nbformat": 4,
 "nbformat_minor": 5
}
